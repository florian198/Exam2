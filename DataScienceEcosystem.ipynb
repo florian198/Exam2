{
 "cells": [
  {
   "cell_type": "markdown",
   "id": "0c041b52-c522-4eae-b656-32b689c917eb",
   "metadata": {},
   "source": [
    "<h1>Data Science Tools and Ecosystem</h1>"
   ]
  },
  {
   "cell_type": "markdown",
   "id": "a99c258a-7a23-421b-9b60-c14039dbb005",
   "metadata": {},
   "source": [
    "In this notebook, Data Science Tools and Ecosystem are summarized."
   ]
  },
  {
   "cell_type": "markdown",
   "id": "4252948d-b28c-422a-a6c7-d641a9858cb8",
   "metadata": {},
   "source": [
    "<b>Objectives:</b>         \n",
    "<ul>\n",
    "            <li>Popular Languages</li>\n",
    "            <li>Common Libraries</li>\n",
    "            <li>Data Science Tools</li>\n",
    "        </ul>\n"
   ]
  },
  {
   "cell_type": "markdown",
   "id": "f2085777-5f3b-4f64-b903-487dbe079691",
   "metadata": {},
   "source": [
    "<p> some of the popular languages that Data Scientists use are:</p>\n",
    "<ol>\n",
    "    <li> Python </li>\n",
    "    <li> R </li>\n",
    "    <li> SQL </li>\n",
    "</ol>\n",
    "    "
   ]
  },
  {
   "cell_type": "markdown",
   "id": "d6a2c499-c6c5-4f9e-bce9-631347ece015",
   "metadata": {},
   "source": [
    "<p> some of the commonly used libraries used by Data Scientists are:</p>\n",
    "<ol>\n",
    "    <li> Pandas </li>\n",
    "    <li> Matplotlib </li>\n",
    "    <li> NLTK </li>\n",
    "</ol>\n",
    "    "
   ]
  },
  {
   "cell_type": "markdown",
   "id": "f73791ec-8d3e-4ed2-a609-b970e376b278",
   "metadata": {},
   "source": [
    "<table>\n",
    "            <tr>\n",
    "                <th>Data Science Tools</th>\n",
    "            </tr>\n",
    "            <tr>\n",
    "                <td>Github</td>\n",
    "            </tr>\n",
    "            <tr>\n",
    "                <td>Jupyter</td>\n",
    "            </tr>\n",
    "            <tr>\n",
    "                <td>RStudio</td>\n",
    "            </tr>\n",
    "</table>"
   ]
  },
  {
   "cell_type": "markdown",
   "id": "591669a0-5799-4110-b199-c06eb466b744",
   "metadata": {},
   "source": [
    "<h3> Below are a few examples of evaluating arithmetic expressions in Python </h3>"
   ]
  },
  {
   "cell_type": "code",
   "execution_count": 2,
   "id": "31d2e679-172f-4851-a584-051b0904a607",
   "metadata": {},
   "outputs": [
    {
     "data": {
      "text/plain": [
       "17"
      ]
     },
     "execution_count": 2,
     "metadata": {},
     "output_type": "execute_result"
    }
   ],
   "source": [
    "#This a simple arithmetic expression to mutiply then add integers\n",
    "\n",
    "(3*4)+5"
   ]
  },
  {
   "cell_type": "code",
   "execution_count": 3,
   "id": "e69f6dd3-3286-446f-9e48-9c9e69cc982c",
   "metadata": {},
   "outputs": [
    {
     "name": "stdout",
     "output_type": "stream",
     "text": [
      "200 minutes are  3.3333333333333335 hours\n"
     ]
    }
   ],
   "source": [
    "#This will convert 200 minutes to hours by diving by 60\n",
    "\n",
    "h = 200/60\n",
    "print(\"200 minutes are \", h,\"hours\")"
   ]
  },
  {
   "cell_type": "markdown",
   "id": "733609c2-8995-4451-a2e0-f1a18d70730a",
   "metadata": {},
   "source": [
    "<h2> Author </h2>\n",
    "Florian"
   ]
  },
  {
   "cell_type": "code",
   "execution_count": null,
   "id": "53c2c3fa-28ac-4a01-90b7-c02048e472eb",
   "metadata": {},
   "outputs": [],
   "source": []
  }
 ],
 "metadata": {
  "kernelspec": {
   "display_name": "Python 3 (ipykernel)",
   "language": "python",
   "name": "python3"
  },
  "language_info": {
   "codemirror_mode": {
    "name": "ipython",
    "version": 3
   },
   "file_extension": ".py",
   "mimetype": "text/x-python",
   "name": "python",
   "nbconvert_exporter": "python",
   "pygments_lexer": "ipython3",
   "version": "3.9.12"
  }
 },
 "nbformat": 4,
 "nbformat_minor": 5
}
